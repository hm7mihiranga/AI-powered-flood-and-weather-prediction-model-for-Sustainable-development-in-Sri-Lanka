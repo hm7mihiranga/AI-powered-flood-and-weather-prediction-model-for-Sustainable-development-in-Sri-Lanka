{
 "cells": [
  {
   "cell_type": "code",
   "execution_count": null,
   "id": "65802d49",
   "metadata": {},
   "outputs": [],
   "source": [
    "pip install scikit-learn"
   ]
  },
  {
   "cell_type": "code",
   "execution_count": 1,
   "id": "bed48bb6",
   "metadata": {},
   "outputs": [],
   "source": [
    "flood_levels = {\n",
    "    \"N' Street\": {\"alert\": 4, \"minor_flood\": 5, \"major_flood\": 7},\n",
    "    \"Hanwella\": {\"alert\": 7, \"minor_flood\": 8, \"major_flood\": 10},\n",
    "    \"Glencourse\": {\"alert\": 15, \"minor_flood\": 16.5, \"major_flood\": 19},\n",
    "    \"Kithulgala\": {\"alert\": 3, \"minor_flood\": 4, \"major_flood\": 6},\n",
    "    \"Holombuwa\": {\"alert\": 3, \"minor_flood\": 3.4, \"major_flood\": 5},\n",
    "    \"Deraniyagala\": {\"alert\": 4.8, \"minor_flood\": 5.8, \"major_flood\": 6.4},\n",
    "    \"Norwood\": {\"alert\": 1.5, \"minor_flood\": 3, \"major_flood\": 4.5},\n",
    "    \"Putupaula\": {\"alert\": 3, \"minor_flood\": 4, \"major_flood\": 5},\n",
    "    \"Ellagawa\": {\"alert\": 10, \"minor_flood\": 10.7, \"major_flood\": 12.2},\n",
    "    \"Rathnapura\": {\"alert\": 5.2, \"minor_flood\": 7.5, \"major_flood\": 9.5},\n",
    "    \"Magura\": {\"alert\": 4, \"minor_flood\": 6, \"major_flood\": 7.5},\n",
    "    \"Kalawellawa\": {\"alert\": 5, \"minor_flood\": 6.5, \"major_flood\": 8},\n",
    "    \"Thawalama\": {\"alert\": 4, \"minor_flood\": 6, \"major_flood\": 7.5},\n",
    "    \"Baddegama\": {\"alert\": 3.5, \"minor_flood\": 4, \"major_flood\": 5},\n",
    "    \"Thalgahagoda\": {\"alert\": 1.4, \"minor_flood\": 1.7, \"major_flood\": 2.8},\n",
    "    \"Panadugama\": {\"alert\": 5, \"minor_flood\": 6, \"major_flood\": 7.5},\n",
    "    \"Pitabeddara\": {\"alert\": 4, \"minor_flood\": 5, \"major_flood\": 6.5},\n",
    "    \"Urawa\": {\"alert\": 2.5, \"minor_flood\": 4, \"major_flood\": 6},\n",
    "    \"Moraketiya\": {\"alert\": 1.8, \"minor_flood\": 3.5, \"major_flood\": 5},\n",
    "    \"Thanamalwila\": {\"alert\": 4, \"minor_flood\": 5, \"major_flood\": 5.5},\n",
    "    \"Wellawaya\": {\"alert\": 4.4, \"minor_flood\": 5.4, \"major_flood\": 5.9},\n",
    "    \"Kuda Oya\": {\"alert\": 6.9, \"minor_flood\": 8.4, \"major_flood\": 8.8},\n",
    "    \"Katharagama\": {\"alert\": 4, \"minor_flood\": 4.6, \"major_flood\": 6.5},\n",
    "    \"Nakkala\": {\"alert\": 5, \"minor_flood\": 6, \"major_flood\": 7.5},\n",
    "    \"Siyambalanduwa\": {\"alert\": 4.5, \"minor_flood\": 6, \"major_flood\": 7},\n",
    "    \"Padiyathalawa\": {\"alert\": 4, \"minor_flood\": 4.5, \"major_flood\": 6},\n",
    "    \"Manampitiya (Old)\": {\"alert\": 3.5, \"minor_flood\": 5, \"major_flood\": 6},\n",
    "    \"Manampitiya (HMIS)\": {\"alert\": 4.65, \"minor_flood\": 6.15, \"major_flood\": 7.15},\n",
    "    \"Weraganthota\": {\"alert\": 5, \"minor_flood\": 6, \"major_flood\": 8},\n",
    "    \"Peradeniya\": {\"alert\": 5, \"minor_flood\": 7, \"major_flood\": 9},\n",
    "    \"Nawalapitiya\": {\"alert\": 3.5, \"minor_flood\": 5, \"major_flood\": 6},\n",
    "    \"Thaldena\": {\"alert\": 3, \"minor_flood\": 4, \"major_flood\": 5},\n",
    "    \"Calidonia\": {\"alert\": 3, \"minor_flood\": 3.5, \"major_flood\": 4.5},\n",
    "    \"Horowpathana\": {\"alert\": 6, \"minor_flood\": 7.5, \"major_flood\": 10.5},\n",
    "    \"Yaka Wewa\": {\"alert\": 4, \"minor_flood\": 5, \"major_flood\": 6},\n",
    "    \"Thantirimale\": {\"alert\": 5, \"minor_flood\": 6.8, \"major_flood\": 7.8},\n",
    "    \"Galgamuwa\": {\"alert\": 4.84, \"minor_flood\": 5.94, \"major_flood\": 8},\n",
    "    \"Ridi bendi Ella (Dam)\": {\"alert\": 3.3, \"minor_flood\": 4.2, \"major_flood\": 4.7},\n",
    "    \"Badalgama\": {\"alert\": 5, \"minor_flood\": 6.2, \"major_flood\": 9.6},\n",
    "    \"Giriulla\": {\"alert\": 5.5, \"minor_flood\": 6.5, \"major_flood\": 7.5},\n",
    "    \"Dunamale\": {\"alert\": 3.3, \"minor_flood\": 4.4, \"major_flood\": 5.5}\n",
    "}"
   ]
  },
  {
   "cell_type": "code",
   "execution_count": 2,
   "id": "434863e1",
   "metadata": {},
   "outputs": [],
   "source": [
    "def determine_flood_status(region, water_level):\n",
    "    thresholds = flood_levels.get(region)\n",
    "    \n",
    "\n",
    "    if water_level < thresholds[\"alert\"]:\n",
    "        return \"Normal\"\n",
    "    elif water_level < thresholds[\"minor_flood\"]:\n",
    "        return \"Alert\"\n",
    "    elif water_level < thresholds[\"major_flood\"]:\n",
    "        return \"Minor Flood\"\n",
    "    elif water_level >= thresholds[\"major_flood\"]:\n",
    "        return \"Major Flood\"\n",
    "    return \"Unknown\""
   ]
  },
  {
   "cell_type": "code",
   "execution_count": 3,
   "id": "0ffe1c80",
   "metadata": {},
   "outputs": [
    {
     "name": "stdout",
     "output_type": "stream",
     "text": [
      "          River Gauging Station  Water level 1 our ago  Water level 1hr after  \\\n",
      "0    Kalu Ganga       Putupaula                   0.73                   0.69   \n",
      "1    Kalu Ganga        Ellagawa                   4.40                   4.41   \n",
      "2    Kalu Ganga      Rathnapura                   0.80                   0.77   \n",
      "3  Maguru Ganga          Magura                   1.20                   1.17   \n",
      "4    Kuda Ganga     Kalawellawa                   2.67                   2.54   \n",
      "\n",
      "   Risk  24hr Rainfall       Date      Time  \n",
      "0   1.0           61.0  27-Mar-21  09.30 AM  \n",
      "1   1.0           30.0  27-Mar-21  09.30 AM  \n",
      "2   1.0            1.7  27-Mar-21  09.30 AM  \n",
      "3   1.0            6.5  27-Mar-21  09.30 AM  \n",
      "4   1.0           55.8  27-Mar-21  09.30 AM  \n"
     ]
    }
   ],
   "source": [
    "import pandas as pd\n",
    "from sklearn.model_selection import train_test_split\n",
    "from sklearn.preprocessing import OneHotEncoder\n",
    "from sklearn.compose import ColumnTransformer\n",
    "from sklearn.pipeline import Pipeline\n",
    "from sklearn.ensemble import RandomForestRegressor\n",
    "from sklearn.impute import SimpleImputer\n",
    "from sklearn.metrics import mean_absolute_error, mean_squared_error, r2_score\n",
    "import numpy as np\n",
    "\n",
    "\n",
    "data = pd.read_csv(r\"C:\\Users\\User\\Desktop\\dataset(Rainy).csv\")\n",
    "\n",
    "\n",
    "print(data.head())"
   ]
  },
  {
   "cell_type": "code",
   "execution_count": 4,
   "id": "f6c1302e",
   "metadata": {},
   "outputs": [],
   "source": [
    "X = data[['Gauging Station', '24hr Rainfall']]\n",
    "y = data[['Water level 1 our ago', 'Water level 1hr after']]\n",
    "\n",
    "y = y.dropna()\n",
    "X = X.loc[y.index]  "
   ]
  },
  {
   "cell_type": "code",
   "execution_count": 5,
   "id": "2221deb9",
   "metadata": {},
   "outputs": [],
   "source": [
    "preprocessor = ColumnTransformer(\n",
    "    transformers=[\n",
    "        ('cat', OneHotEncoder(), ['Gauging Station'])\n",
    "    ],\n",
    "    remainder='passthrough'\n",
    ")\n",
    "\n",
    "pipeline = Pipeline(steps=[\n",
    "    ('preprocessor', preprocessor),\n",
    "    ('regressor', RandomForestRegressor())\n",
    "])\n",
    "\n",
    "\n",
    "X_train, X_test, y_train, y_test = train_test_split(X, y, test_size=0.2, random_state=42)"
   ]
  },
  {
   "cell_type": "code",
   "execution_count": 6,
   "id": "dbfa5ee5",
   "metadata": {},
   "outputs": [],
   "source": [
    "pipeline.fit(X_train, y_train)\n",
    "\n",
    "y_pred = pipeline.predict(X_test)\n"
   ]
  },
  {
   "cell_type": "code",
   "execution_count": 7,
   "id": "d544df2d",
   "metadata": {},
   "outputs": [
    {
     "name": "stdout",
     "output_type": "stream",
     "text": [
      "Model Performance:\n",
      "Mean Absolute Error (MAE): 0.7612\n",
      "Mean Squared Error (MSE): 1.3520\n",
      "Root Mean Squared Error (RMSE): 1.1628\n",
      "R-squared (R²): 0.8141\n"
     ]
    }
   ],
   "source": [
    "mae = mean_absolute_error(y_test, y_pred)\n",
    "mse = mean_squared_error(y_test, y_pred)\n",
    "rmse = np.sqrt(mse)\n",
    "r2 = r2_score(y_test, y_pred)\n",
    "\n",
    "\n",
    "print(\"Model Performance:\")\n",
    "print(f\"Mean Absolute Error (MAE): {mae:.4f}\")\n",
    "print(f\"Mean Squared Error (MSE): {mse:.4f}\")\n",
    "print(f\"Root Mean Squared Error (RMSE): {rmse:.4f}\")\n",
    "print(f\"R-squared (R²): {r2:.4f}\")"
   ]
  },
  {
   "cell_type": "code",
   "execution_count": 8,
   "id": "04c847a5",
   "metadata": {},
   "outputs": [],
   "source": [
    "def predict_water_levels(gauging_station, rainfall):\n",
    "    input_data = pd.DataFrame({\n",
    "        'Gauging Station': [gauging_station],\n",
    "        '24hr Rainfall': [rainfall]\n",
    "    })\n",
    "    return pipeline.predict(input_data)"
   ]
  },
  {
   "cell_type": "code",
   "execution_count": 9,
   "id": "c5d7a0c4",
   "metadata": {},
   "outputs": [
    {
     "name": "stdout",
     "output_type": "stream",
     "text": [
      "Predicted Water Level 1 hour ago: 3.3557000000000006\n",
      "Predicted Water Level 1hr after: 3.360099999999999\n",
      "Risk Status: Alert\n"
     ]
    }
   ],
   "source": [
    "region=\"Putupaula\"\n",
    "predictions = predict_water_levels(region, 78.2)\n",
    "print(\"Predicted Water Level 1 hour ago:\", predictions[0][0])\n",
    "print(\"Predicted Water Level 1hr after:\", predictions[0][1])\n",
    "print(\"Risk Status:\",determine_flood_status(region,predictions[0][1]))"
   ]
  }
 ],
 "metadata": {
  "kernelspec": {
   "display_name": "OCR_Reader",
   "language": "python",
   "name": "ocr_reader"
  },
  "language_info": {
   "codemirror_mode": {
    "name": "ipython",
    "version": 3
   },
   "file_extension": ".py",
   "mimetype": "text/x-python",
   "name": "python",
   "nbconvert_exporter": "python",
   "pygments_lexer": "ipython3",
   "version": "3.11.9"
  }
 },
 "nbformat": 4,
 "nbformat_minor": 5
}
